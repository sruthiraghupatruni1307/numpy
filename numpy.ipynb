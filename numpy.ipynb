{
 "cells": [
  {
   "cell_type": "markdown",
   "id": "f307884e",
   "metadata": {},
   "source": [
    "# Data Science Lifecycle\n",
    "\n",
    "7 Steps\n",
    "\n",
    "1. Business understanding\n",
    "2. Data preparation\n",
    "3. Data munging/Data wrangling\n",
    "   - feature selection\n",
    "   - EDA tool\n",
    "4. Model training\n",
    "5. model evaluation\n",
    "6. Model deployment\n",
    "   - AWS\n",
    "   - IBM waston studio\n",
    "7. Model tracking"
   ]
  },
  {
   "cell_type": "markdown",
   "id": "dba580d4",
   "metadata": {},
   "source": [
    "# Data Science Libraries\n",
    "\n",
    "- numpy\n",
    "- pandas\n",
    "- matplotlib\n",
    "- seaborn"
   ]
  },
  {
   "cell_type": "markdown",
   "id": "29753fa9",
   "metadata": {},
   "source": [
    "## numpy\n",
    "- stands for numerical python\n",
    "- developed in 2005 by Travis Oliphant\n",
    "- we create arrays\n",
    "   - 0-D\n",
    "   - 1-D\n",
    "   - 2-D\n",
    "   - multi dimension\n",
    "- linear algebra,fourier transforms,matrices\n",
    " "
   ]
  },
  {
   "cell_type": "code",
   "execution_count": 4,
   "id": "3d464a02",
   "metadata": {},
   "outputs": [],
   "source": [
    "import numpy"
   ]
  },
  {
   "cell_type": "code",
   "execution_count": 5,
   "id": "468482c3",
   "metadata": {},
   "outputs": [
    {
     "name": "stdout",
     "output_type": "stream",
     "text": [
      "Requirement already satisfied: numpy in c:\\users\\sanjusruthi\\anaconda3\\lib\\site-packages (1.20.1)\n",
      "Note: you may need to restart the kernel to use updated packages.\n"
     ]
    }
   ],
   "source": [
    "pip install numpy"
   ]
  },
  {
   "cell_type": "code",
   "execution_count": 6,
   "id": "1cd2eaa5",
   "metadata": {},
   "outputs": [],
   "source": [
    "import numpy as np"
   ]
  },
  {
   "cell_type": "code",
   "execution_count": 7,
   "id": "256bfd18",
   "metadata": {},
   "outputs": [
    {
     "data": {
      "text/plain": [
       "'1.20.1'"
      ]
     },
     "execution_count": 7,
     "metadata": {},
     "output_type": "execute_result"
    }
   ],
   "source": [
    "np.__version__"
   ]
  },
  {
   "cell_type": "markdown",
   "id": "993efd24",
   "metadata": {},
   "source": [
    "### CREATING ARRAYS"
   ]
  },
  {
   "cell_type": "code",
   "execution_count": 8,
   "id": "cab109e8",
   "metadata": {},
   "outputs": [
    {
     "name": "stdout",
     "output_type": "stream",
     "text": [
      "23\n"
     ]
    }
   ],
   "source": [
    "import numpy as np\n",
    "x=np.array(23)\n",
    "print(x)"
   ]
  },
  {
   "cell_type": "code",
   "execution_count": 9,
   "id": "9de9e317",
   "metadata": {},
   "outputs": [
    {
     "data": {
      "text/plain": [
       "0"
      ]
     },
     "execution_count": 9,
     "metadata": {},
     "output_type": "execute_result"
    }
   ],
   "source": [
    "# check dimension\n",
    "np.ndim(x)"
   ]
  },
  {
   "cell_type": "code",
   "execution_count": 10,
   "id": "3a7b79ae",
   "metadata": {},
   "outputs": [
    {
     "name": "stdout",
     "output_type": "stream",
     "text": [
      "[12 23  4  5  6]\n",
      "1\n"
     ]
    }
   ],
   "source": [
    "x1=np.array([12,23,4,5,6])\n",
    "print(x1)\n",
    "print(np.ndim(x1))"
   ]
  },
  {
   "cell_type": "code",
   "execution_count": 11,
   "id": "0b0a1321",
   "metadata": {},
   "outputs": [
    {
     "name": "stdout",
     "output_type": "stream",
     "text": [
      "[[1 2 3]]\n",
      "2\n"
     ]
    }
   ],
   "source": [
    "# 2D array\n",
    "x2=np.array([[1,2,3]])\n",
    "print(x2)\n",
    "print(np.ndim(x2))"
   ]
  },
  {
   "cell_type": "code",
   "execution_count": 12,
   "id": "a906c765",
   "metadata": {},
   "outputs": [
    {
     "name": "stdout",
     "output_type": "stream",
     "text": [
      "[[1 2 3]\n",
      " [1 3 4]]\n",
      "dimension of x2: 2\n"
     ]
    }
   ],
   "source": [
    "# 2D array\n",
    "x2=np.array([[1,2,3],[1,3,4]])\n",
    "print(x2)\n",
    "print(\"dimension of x2:\",np.ndim(x2))"
   ]
  },
  {
   "cell_type": "code",
   "execution_count": 13,
   "id": "fe79cf66",
   "metadata": {},
   "outputs": [
    {
     "data": {
      "text/plain": [
       "6"
      ]
     },
     "execution_count": 13,
     "metadata": {},
     "output_type": "execute_result"
    }
   ],
   "source": [
    "#to get the number of elements in x2 array\n",
    "np.size(x2)"
   ]
  },
  {
   "cell_type": "code",
   "execution_count": 14,
   "id": "c04fc38a",
   "metadata": {},
   "outputs": [
    {
     "data": {
      "text/plain": [
       "(2, 3)"
      ]
     },
     "execution_count": 14,
     "metadata": {},
     "output_type": "execute_result"
    }
   ],
   "source": [
    "# to get no.of rows and columns\n",
    "np.shape(x2)"
   ]
  },
  {
   "cell_type": "markdown",
   "id": "729ce150",
   "metadata": {},
   "source": [
    "### 3D array\n",
    "- [[[]]]"
   ]
  },
  {
   "cell_type": "code",
   "execution_count": 15,
   "id": "3fc2f4a5",
   "metadata": {},
   "outputs": [
    {
     "name": "stdout",
     "output_type": "stream",
     "text": [
      "[[[1 2 3]\n",
      "  [4 5 6]\n",
      "  [7 9 0]]]\n",
      "dimension of x3: 3\n",
      "elements of x3: 9\n",
      "shape of x3: (1, 3, 3)\n"
     ]
    }
   ],
   "source": [
    "import numpy as np\n",
    "x3=np.array([[[1,2,3],[4,5,6],[7,9,0]]])\n",
    "print(x3)\n",
    "print(\"dimension of x3:\",np.ndim(x3))\n",
    "print(\"elements of x3:\",np.size(x3))\n",
    "print(\"shape of x3:\",np.shape(x3))"
   ]
  },
  {
   "cell_type": "markdown",
   "id": "14e1cb6f",
   "metadata": {},
   "source": [
    "### methods to create arrays\n",
    "- zeros\n",
    "- ones\n",
    "- linspace\n",
    "- logspace\n",
    "- arrange\n",
    "- random.rand"
   ]
  },
  {
   "cell_type": "code",
   "execution_count": 16,
   "id": "d5499aac",
   "metadata": {},
   "outputs": [
    {
     "data": {
      "text/plain": [
       "array([0., 0., 0.])"
      ]
     },
     "execution_count": 16,
     "metadata": {},
     "output_type": "execute_result"
    }
   ],
   "source": [
    "a0=np.zeros(3)\n",
    "a0"
   ]
  },
  {
   "cell_type": "code",
   "execution_count": 17,
   "id": "8fb59a75",
   "metadata": {},
   "outputs": [
    {
     "data": {
      "text/plain": [
       "array([0, 0, 0])"
      ]
     },
     "execution_count": 17,
     "metadata": {},
     "output_type": "execute_result"
    }
   ],
   "source": [
    "a0=np.zeros(3,dtype=int)\n",
    "a0"
   ]
  },
  {
   "cell_type": "code",
   "execution_count": 18,
   "id": "06f8fb62",
   "metadata": {},
   "outputs": [
    {
     "data": {
      "text/plain": [
       "array(['', '', ''], dtype='<U1')"
      ]
     },
     "execution_count": 18,
     "metadata": {},
     "output_type": "execute_result"
    }
   ],
   "source": [
    "a0=np.zeros(3,dtype=str)\n",
    "a0"
   ]
  },
  {
   "cell_type": "code",
   "execution_count": 30,
   "id": "a18dca0a",
   "metadata": {},
   "outputs": [
    {
     "data": {
      "text/plain": [
       "array([1, 1])"
      ]
     },
     "execution_count": 30,
     "metadata": {},
     "output_type": "execute_result"
    }
   ],
   "source": [
    "a1=np.ones(2,dtype=int)\n",
    "a1"
   ]
  },
  {
   "cell_type": "code",
   "execution_count": 35,
   "id": "dddb75c1",
   "metadata": {},
   "outputs": [
    {
     "name": "stdout",
     "output_type": "stream",
     "text": [
      "a1: [1 1 1 1 1]\n",
      "reshape of a1 into a2:\n",
      " [[1]\n",
      " [1]\n",
      " [1]\n",
      " [1]\n",
      " [1]]\n",
      "reshape of a1 into a3:\n",
      " [[1 1 1 1 1]]\n"
     ]
    }
   ],
   "source": [
    "a1=np.ones(5,dtype=int)\n",
    "print(\"a1:\",a1)\n",
    "a2=a1.reshape(5,1)\n",
    "print(\"reshape of a1 into a2:\\n\",a2)\n",
    "a3=a1.reshape(1,5)\n",
    "print(\"reshape of a1 into a3:\\n\",a3)"
   ]
  },
  {
   "cell_type": "code",
   "execution_count": 46,
   "id": "35217377",
   "metadata": {},
   "outputs": [
    {
     "name": "stdout",
     "output_type": "stream",
     "text": [
      "[ 1  5  9 13 17 21]\n",
      "dimension: 1\n",
      "elements: 6\n"
     ]
    }
   ],
   "source": [
    "a=np.arange(1,22,4)\n",
    "print(a)\n",
    "print(\"dimension:\",np.ndim(a))\n",
    "print(\"elements:\",np.size(a))"
   ]
  },
  {
   "cell_type": "markdown",
   "id": "26b4edaa",
   "metadata": {},
   "source": [
    "## Possibilities to reshape of 6 elements\n",
    "- (2,3)\n",
    "- (3,2)\n",
    "- (6,1)\n",
    "- (1,6)"
   ]
  },
  {
   "cell_type": "code",
   "execution_count": 47,
   "id": "0841e170",
   "metadata": {},
   "outputs": [
    {
     "name": "stdout",
     "output_type": "stream",
     "text": [
      "[ 1  5  9 13 17 21]\n",
      "[[ 1  5]\n",
      " [ 9 13]\n",
      " [17 21]]\n"
     ]
    }
   ],
   "source": [
    "a1=a.reshape(3,2)\n",
    "print(a)\n",
    "print(a1)"
   ]
  },
  {
   "cell_type": "code",
   "execution_count": 57,
   "id": "102d8a1f",
   "metadata": {},
   "outputs": [
    {
     "name": "stdout",
     "output_type": "stream",
     "text": [
      "[10.]\n"
     ]
    }
   ],
   "source": [
    "l1=np.logspace(1,5,1)\n",
    "print(l1)"
   ]
  },
  {
   "cell_type": "code",
   "execution_count": 58,
   "id": "de998a0c",
   "metadata": {},
   "outputs": [
    {
     "name": "stdout",
     "output_type": "stream",
     "text": [
      "[1.         1.08163265 1.16326531 1.24489796 1.32653061 1.40816327\n",
      " 1.48979592 1.57142857 1.65306122 1.73469388 1.81632653 1.89795918\n",
      " 1.97959184 2.06122449 2.14285714 2.2244898  2.30612245 2.3877551\n",
      " 2.46938776 2.55102041 2.63265306 2.71428571 2.79591837 2.87755102\n",
      " 2.95918367 3.04081633 3.12244898 3.20408163 3.28571429 3.36734694\n",
      " 3.44897959 3.53061224 3.6122449  3.69387755 3.7755102  3.85714286\n",
      " 3.93877551 4.02040816 4.10204082 4.18367347 4.26530612 4.34693878\n",
      " 4.42857143 4.51020408 4.59183673 4.67346939 4.75510204 4.83673469\n",
      " 4.91836735 5.        ]\n"
     ]
    }
   ],
   "source": [
    "l2=np.linspace(1,5)\n",
    "print(l2)"
   ]
  },
  {
   "cell_type": "code",
   "execution_count": 59,
   "id": "04bfd56f",
   "metadata": {},
   "outputs": [
    {
     "name": "stdout",
     "output_type": "stream",
     "text": [
      "[1.  1.8 2.6 3.4 4.2 5. ]\n"
     ]
    }
   ],
   "source": [
    "l2=np.linspace(1,5,6)\n",
    "print(l2)"
   ]
  },
  {
   "cell_type": "code",
   "execution_count": 60,
   "id": "f20f5cbd",
   "metadata": {},
   "outputs": [
    {
     "name": "stdout",
     "output_type": "stream",
     "text": [
      "[[0.64872168 0.59874157]\n",
      " [0.46842808 0.66114334]\n",
      " [0.40969674 0.45304619]]\n"
     ]
    }
   ],
   "source": [
    "r=np.random.rand(3,2)\n",
    "print(r)"
   ]
  },
  {
   "cell_type": "code",
   "execution_count": 62,
   "id": "c8f9bbcf",
   "metadata": {},
   "outputs": [
    {
     "name": "stdout",
     "output_type": "stream",
     "text": [
      "28\n"
     ]
    }
   ],
   "source": [
    "r1=np.random.randint(1,100)\n",
    "print(r1)"
   ]
  },
  {
   "cell_type": "code",
   "execution_count": 63,
   "id": "85a1efa0",
   "metadata": {},
   "outputs": [
    {
     "name": "stdout",
     "output_type": "stream",
     "text": [
      "[[-0.49900968 -0.27940428  2.5026355   1.02908941 -0.46989755  0.28400488\n",
      "  -0.74157339 -0.91266465 -0.22056617 -0.34627917]]\n"
     ]
    }
   ],
   "source": [
    "r2=np.random.randn(1,10)\n",
    "print(r2)"
   ]
  },
  {
   "cell_type": "code",
   "execution_count": 64,
   "id": "6a106823",
   "metadata": {},
   "outputs": [
    {
     "data": {
      "text/plain": [
       "2"
      ]
     },
     "execution_count": 64,
     "metadata": {},
     "output_type": "execute_result"
    }
   ],
   "source": [
    "np.ndim(r2)"
   ]
  },
  {
   "cell_type": "code",
   "execution_count": 65,
   "id": "45ed3f3d",
   "metadata": {},
   "outputs": [
    {
     "name": "stdout",
     "output_type": "stream",
     "text": [
      "[-0.49900968 -0.27940428  2.5026355   1.02908941 -0.46989755  0.28400488\n",
      " -0.74157339 -0.91266465 -0.22056617 -0.34627917]\n"
     ]
    }
   ],
   "source": [
    "r3=r2.flatten()\n",
    "print(r3)"
   ]
  },
  {
   "cell_type": "code",
   "execution_count": 66,
   "id": "77707ec7",
   "metadata": {},
   "outputs": [
    {
     "data": {
      "text/plain": [
       "1"
      ]
     },
     "execution_count": 66,
     "metadata": {},
     "output_type": "execute_result"
    }
   ],
   "source": [
    "np.ndim(r3)"
   ]
  }
 ],
 "metadata": {
  "kernelspec": {
   "display_name": "Python 3",
   "language": "python",
   "name": "python3"
  },
  "language_info": {
   "codemirror_mode": {
    "name": "ipython",
    "version": 3
   },
   "file_extension": ".py",
   "mimetype": "text/x-python",
   "name": "python",
   "nbconvert_exporter": "python",
   "pygments_lexer": "ipython3",
   "version": "3.8.8"
  }
 },
 "nbformat": 4,
 "nbformat_minor": 5
}
